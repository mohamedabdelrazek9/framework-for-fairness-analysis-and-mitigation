{
 "cells": [
  {
   "cell_type": "markdown",
   "metadata": {},
   "source": [
    "# RHGN JD dataset process"
   ]
  },
  {
   "cell_type": "code",
   "execution_count": 1,
   "metadata": {},
   "outputs": [
    {
     "name": "stderr",
     "output_type": "stream",
     "text": [
      "Using backend: pytorch[06:29:49] /opt/dgl/src/runtime/tensordispatch.cc:43: TensorDispatcher: dlopen failed: /home/purificato/.local/lib/python3.8/site-packages/dgl/tensoradapter/pytorch/libtensoradapter_pytorch_1.10.1.so: cannot open shared object file: No such file or directory\n",
      "\n"
     ]
    }
   ],
   "source": [
    "import numpy as np\n",
    "import pandas as pd\n",
    "import os\n",
    "import tqdm\n",
    "import dgl\n",
    "import time\n",
    "import pickle\n",
    "import fasttext\n",
    "import torch\n",
    "from torch import nn\n",
    "from utils import *\n",
    "from utils import neighbormap,split_char,filter_sample,combination"
   ]
  },
  {
   "cell_type": "code",
   "execution_count": 2,
   "metadata": {},
   "outputs": [],
   "source": [
    "def show_df_info(df):\n",
    "    print(df.info())\n",
    "    print('####### Repeat ####### \\n', df.duplicated().any())\n",
    "    print('####### Count ####### \\n', df.nunique())\n",
    "    print('####### Example ####### \\n',df.head())\n",
    "\n",
    "\n",
    "def label_statics(label_df, label_list):\n",
    "    print(\"####### nCount #######\")\n",
    "    for label in label_list:\n",
    "        print(label_df[label].value_counts())\n",
    "    print(\"####### nPercent #######\")\n",
    "    for label in label_list:\n",
    "        print(label_df[label].value_counts()/label_df.shape[0])"
   ]
  },
  {
   "cell_type": "markdown",
   "metadata": {},
   "source": [
    "## Base paths"
   ]
  },
  {
   "cell_type": "code",
   "execution_count": 3,
   "metadata": {},
   "outputs": [],
   "source": [
    "raw_data_path = '/home/purificato/papers_code/CIKM21_RHGN/jd_data'\n",
    "save_path = './input_jd_data/orig'"
   ]
  },
  {
   "cell_type": "markdown",
   "metadata": {},
   "source": [
    "## USER analysis"
   ]
  },
  {
   "cell_type": "code",
   "execution_count": 4,
   "metadata": {},
   "outputs": [
    {
     "name": "stdout",
     "output_type": "stream",
     "text": [
      "<class 'pandas.core.frame.DataFrame'>\n",
      "Int64Index: 100000 entries, 0 to 99999\n",
      "Data columns (total 3 columns):\n",
      " #   Column     Non-Null Count   Dtype \n",
      "---  ------     --------------   ----- \n",
      " 0   user_id    100000 non-null  int64 \n",
      " 1   gender     100000 non-null  int64 \n",
      " 2   age_range  100000 non-null  object\n",
      "dtypes: int64(2), object(1)\n",
      "memory usage: 3.1+ MB\n",
      "None\n",
      "####### Repeat ####### \n",
      " False\n",
      "####### Count ####### \n",
      " user_id      100000\n",
      "gender            2\n",
      "age_range        13\n",
      "dtype: int64\n",
      "####### Example ####### \n",
      "    user_id  gender age_range\n",
      "0        0       0     21~25\n",
      "1        1       0     31~35\n",
      "2        2       0     26~30\n",
      "3        3       1     46~50\n",
      "4        4       1     31~35\n"
     ]
    }
   ],
   "source": [
    "df_user = pd.read_csv(os.path.join(raw_data_path, \"user\"))\n",
    "df_user.dropna(inplace=True)\n",
    "\n",
    "show_df_info(df_user)"
   ]
  },
  {
   "cell_type": "code",
   "execution_count": 5,
   "metadata": {},
   "outputs": [
    {
     "name": "stdout",
     "output_type": "stream",
     "text": [
      "<class 'pandas.core.frame.DataFrame'>\n",
      "Int64Index: 100000 entries, 0 to 99999\n",
      "Data columns (total 3 columns):\n",
      " #   Column  Non-Null Count   Dtype\n",
      "---  ------  --------------   -----\n",
      " 0   uid     100000 non-null  int64\n",
      " 1   gender  100000 non-null  int64\n",
      " 2   age     100000 non-null  int64\n",
      "dtypes: int64(3)\n",
      "memory usage: 3.1 MB\n",
      "None\n",
      "####### Repeat ####### \n",
      " False\n",
      "####### Count ####### \n",
      " uid       100000\n",
      "gender         2\n",
      "age            5\n",
      "dtype: int64\n",
      "####### Example ####### \n",
      "    uid  gender  age\n",
      "0    0       0    0\n",
      "1    1       0    1\n",
      "2    2       0    1\n",
      "3    3       1    3\n",
      "4    4       1    1\n"
     ]
    }
   ],
   "source": [
    "age_dic = {'11~15':0, '16~20':0, '21~25':0, '26~30':1, '31~35':1, '36~40':2, '41~45':2, '46~50':3, '51~55':3, '56~60':4, '61~65':4, '66~70':4, '71~':4}\n",
    "\n",
    "df_user[[\"age_range\"]] = df_user[[\"age_range\"]].applymap(lambda x:age_dic[x])\n",
    "df_user.rename(columns={\"user_id\":\"uid\", \"age_range\":\"age\"}, inplace=True)\n",
    "\n",
    "show_df_info(df_user)"
   ]
  },
  {
   "cell_type": "code",
   "execution_count": 6,
   "metadata": {},
   "outputs": [
    {
     "name": "stdout",
     "output_type": "stream",
     "text": [
      "####### nCount #######\n",
      "0    59500\n",
      "1    40500\n",
      "Name: gender, dtype: int64\n",
      "1    50824\n",
      "2    20847\n",
      "0    19288\n",
      "3     7100\n",
      "4     1941\n",
      "Name: age, dtype: int64\n",
      "####### nPercent #######\n",
      "0    0.595\n",
      "1    0.405\n",
      "Name: gender, dtype: float64\n",
      "1    0.50824\n",
      "2    0.20847\n",
      "0    0.19288\n",
      "3    0.07100\n",
      "4    0.01941\n",
      "Name: age, dtype: float64\n"
     ]
    }
   ],
   "source": [
    "label_statics(df_user, df_user.columns[1:])"
   ]
  },
  {
   "cell_type": "markdown",
   "metadata": {},
   "source": [
    "### bin_age"
   ]
  },
  {
   "cell_type": "code",
   "execution_count": 7,
   "metadata": {},
   "outputs": [
    {
     "name": "stdout",
     "output_type": "stream",
     "text": [
      "####### nCount #######\n",
      "0    59500\n",
      "1    40500\n",
      "Name: gender, dtype: int64\n",
      "1    50824\n",
      "2    20847\n",
      "0    19288\n",
      "3     7100\n",
      "4     1941\n",
      "Name: age, dtype: int64\n",
      "0    70112\n",
      "1    29888\n",
      "Name: bin_age, dtype: int64\n",
      "####### nPercent #######\n",
      "0    0.595\n",
      "1    0.405\n",
      "Name: gender, dtype: float64\n",
      "1    0.50824\n",
      "2    0.20847\n",
      "0    0.19288\n",
      "3    0.07100\n",
      "4    0.01941\n",
      "Name: age, dtype: float64\n",
      "0    0.70112\n",
      "1    0.29888\n",
      "Name: bin_age, dtype: float64\n"
     ]
    }
   ],
   "source": [
    "# Add bin_age column\n",
    "df_user[\"bin_age\"] = df_user[\"age\"]\n",
    "df_user[\"bin_age\"] = df_user[\"bin_age\"].replace(1,0)\n",
    "df_user[\"bin_age\"] = df_user[\"bin_age\"].replace(2,1)\n",
    "df_user[\"bin_age\"] = df_user[\"bin_age\"].replace(3,1)\n",
    "df_user[\"bin_age\"] = df_user[\"bin_age\"].replace(4,1)\n",
    "\n",
    "label_statics(df_user, df_user.columns[1:])"
   ]
  },
  {
   "cell_type": "markdown",
   "metadata": {},
   "source": [
    "## ITEM analysis"
   ]
  },
  {
   "cell_type": "code",
   "execution_count": 8,
   "metadata": {},
   "outputs": [
    {
     "name": "stdout",
     "output_type": "stream",
     "text": [
      "<class 'pandas.core.frame.DataFrame'>\n",
      "RangeIndex: 4730503 entries, 0 to 4730502\n",
      "Data columns (total 11 columns):\n",
      " #   Column     Dtype  \n",
      "---  ------     -----  \n",
      " 0   pid        int64  \n",
      " 1   cid1       int64  \n",
      " 2   cid2       int64  \n",
      " 3   cid3       int64  \n",
      " 4   cid1_name  object \n",
      " 5   cid2_name  object \n",
      " 6   cid3_name  object \n",
      " 7   brand      float64\n",
      " 8   price      float64\n",
      " 9   item_name  object \n",
      " 10  seg_name   object \n",
      "dtypes: float64(2), int64(4), object(5)\n",
      "memory usage: 397.0+ MB\n",
      "None\n",
      "####### Repeat ####### \n",
      " False\n",
      "####### Count ####### \n",
      " pid          4730503\n",
      "cid1              49\n",
      "cid2             454\n",
      "cid3            4098\n",
      "cid1_name         49\n",
      "cid2_name        443\n",
      "cid3_name       3801\n",
      "brand         133439\n",
      "price          49875\n",
      "item_name    4686250\n",
      "seg_name     4728800\n",
      "dtype: int64\n",
      "####### Example ####### \n",
      "             pid  cid1   cid2   cid3 cid1_name cid2_name cid3_name    brand  \\\n",
      "0  100000002008  1315   1345  12015      服饰内衣        内衣      秋衣秋裤  12002.0   \n",
      "1  100000002009  6196   6227   6232        厨具        餐具     一次性用品  57642.0   \n",
      "2  100000002011  6196   6227   6232        厨具        餐具     一次性用品  57642.0   \n",
      "3  100000002012  1315   1345   9744      服饰内衣        内衣      男式内裤   8439.0   \n",
      "4  100000002013  6196  11143  11153        厨具        茶具      茶具配件  18922.0   \n",
      "\n",
      "   price                                          item_name  \\\n",
      "0  199.0          马克华菲保暖内衣 男士秋衣秋裤套装薄款棉质高弹棉毛衫秋冬男生线衣线裤 宝蓝圆领 L   \n",
      "1   19.9    乐扣乐扣 PE家用一次性保鲜膜 生鲜食品保鲜薄膜 LBM106*3 (3卷装)20cm*20M   \n",
      "2   18.9  乐扣乐扣 PE生鲜水果用一次性保鲜膜 厨房家用保鲜薄膜 LBM105*2(两卷装)30cm*20M   \n",
      "3  199.0             花花公子男士内裤冰丝平角内裤男网眼透气弹力中腰四角裤男 4条装5370多色L   \n",
      "4   79.0                    雅集智能恒温宝 加热保温茶杯垫 玻璃杯垫暖奶器茶具电热保温底座   \n",
      "\n",
      "                                            seg_name  \n",
      "0  内衣 高弹 男士 套装 秋衣 棉毛衫 宝蓝 线衣 薄款 秋裤 马克华菲 男生 保暖 棉质 线...  \n",
      "1         保鲜膜 薄膜 20cm 生鲜 pe 保鲜 家用 20m 食品 卷装 一次性 乐扣乐扣  \n",
      "2      20m 保鲜 厨房 生鲜水果 pe 一次性 薄膜 30cm 乐扣乐扣 两卷装 家用 保鲜膜  \n",
      "3            男士 弹力 多色 中腰 网眼 内裤 透气 冰丝 花花公子 四角裤 平角 4条装  \n",
      "4             雅集 茶杯垫 加热 电热 茶具 暖奶器 杯垫 保温 恒温宝 底座 玻璃 智能  \n"
     ]
    }
   ],
   "source": [
    "df_item = pd.read_csv(os.path.join(raw_data_path, \"item_info\"))\n",
    "df_item.dropna(inplace=True)\n",
    "df_item.rename(columns={\"item_id\":\"pid\", \"brand_code\":\"brand\"}, inplace=True)\n",
    "df_item.reset_index(drop=True, inplace=True)\n",
    "\n",
    "show_df_info(df_item)"
   ]
  },
  {
   "cell_type": "code",
   "execution_count": 9,
   "metadata": {},
   "outputs": [
    {
     "name": "stdout",
     "output_type": "stream",
     "text": [
      "<class 'pandas.core.frame.DataFrame'>\n",
      "RangeIndex: 709575 entries, 0 to 709574\n",
      "Data columns (total 11 columns):\n",
      " #   Column     Non-Null Count   Dtype  \n",
      "---  ------     --------------   -----  \n",
      " 0   pid        709575 non-null  int64  \n",
      " 1   cid1       709575 non-null  int64  \n",
      " 2   cid2       709575 non-null  int64  \n",
      " 3   cid3       709575 non-null  int64  \n",
      " 4   cid1_name  709575 non-null  object \n",
      " 5   cid2_name  709575 non-null  object \n",
      " 6   cid3_name  709575 non-null  object \n",
      " 7   brand      709575 non-null  float64\n",
      " 8   price      709575 non-null  float64\n",
      " 9   item_name  709575 non-null  object \n",
      " 10  seg_name   709575 non-null  object \n",
      "dtypes: float64(2), int64(4), object(5)\n",
      "memory usage: 59.6+ MB\n",
      "None\n",
      "####### Repeat ####### \n",
      " False\n",
      "####### Count ####### \n",
      " pid          709575\n",
      "cid1             46\n",
      "cid2            412\n",
      "cid3           3614\n",
      "cid1_name        46\n",
      "cid2_name       402\n",
      "cid3_name      3382\n",
      "brand         83674\n",
      "price         20162\n",
      "item_name    708363\n",
      "seg_name     709516\n",
      "dtype: int64\n",
      "####### Example ####### \n",
      "            pid  cid1  cid2   cid3 cid1_name cid2_name  cid3_name     brand  \\\n",
      "0  16756787137  1318  1466   1695      运动户外      体育用品       羽毛球拍  192408.0   \n",
      "1  28012078546  1315  1346  12039      服饰内衣      服饰配件  领带/领结/领带夹   12085.0   \n",
      "2  14673037900  9192  9197   1509      医药保健      保健器械       中医保健  218542.0   \n",
      "3     11902157  1713  9278   9286        图书     烹饪/美食       饮食文化       0.0   \n",
      "4     12475079  1713  3258   3304        图书        小说   侦探/悬疑/推理       0.0   \n",
      "\n",
      "   price                                          item_name  \\\n",
      "0  468.0  凯胜（Kason）羽毛球拍单拍全碳素球拍100ti 105ti 850ti 经典款球拍 C7...   \n",
      "1  318.0  玛诗杜(MSKOO)领带男士情人节礼物7cm窄款防水防油时尚碎花商务桑蚕丝领带盒装赠领夹 顺...   \n",
      "2    9.8  蕲河金艾（QI HE JIN AI） 蕲河金艾 艾灸盒木质 随身灸艾条温灸器艾灸单孔竹制温灸...   \n",
      "3   47.3                                             蔡澜旅行食记   \n",
      "4   29.6                                             空楼下的暗墙   \n",
      "\n",
      "                                            seg_name  \n",
      "0            经典款 pt c7 单拍 白蓝 球拍 羽毛球拍 全碳素 kason 凯胜 ti  \n",
      "1  mskoo 防水 直送 时尚 碎花 桑蚕丝 情人节 领夹 窄款 mts 顺丰 玛诗杜 礼物 ...  \n",
      "2     竹制 ai 艾灸盒 艾条 he 木质 随身灸 艾灸 jin qi 温灸盒 金艾 单孔 温灸器  \n",
      "3                                           食记 旅行 蔡澜  \n",
      "4                                                 楼下  \n"
     ]
    }
   ],
   "source": [
    "df_item = df_item.sample(frac=0.15, random_state=11)\n",
    "df_item.reset_index(drop=True, inplace=True)\n",
    "\n",
    "show_df_info(df_item)"
   ]
  },
  {
   "cell_type": "markdown",
   "metadata": {},
   "source": [
    "## CLICK analysis"
   ]
  },
  {
   "cell_type": "code",
   "execution_count": 10,
   "metadata": {},
   "outputs": [
    {
     "name": "stderr",
     "output_type": "stream",
     "text": [
      "/home/purificato/.local/lib/python3.8/site-packages/IPython/core/interactiveshell.py:3251: DtypeWarning: Columns (1) have mixed types.Specify dtype option on import or set low_memory=False.\n",
      "  exec(code_obj, self.user_global_ns, self.user_ns)\n"
     ]
    },
    {
     "name": "stdout",
     "output_type": "stream",
     "text": [
      "<class 'pandas.core.frame.DataFrame'>\n",
      "RangeIndex: 52983323 entries, 0 to 52983322\n",
      "Data columns (total 2 columns):\n",
      " #   Column  Dtype \n",
      "---  ------  ----- \n",
      " 0   uid     int64 \n",
      " 1   pid     object\n",
      "dtypes: int64(1), object(1)\n",
      "memory usage: 808.5+ MB\n",
      "None\n",
      "####### Repeat ####### \n",
      " True\n",
      "####### Count ####### \n",
      " uid      85177\n",
      "pid    8335109\n",
      "dtype: int64\n",
      "####### Example ####### \n",
      "    uid       pid\n",
      "0    0   1150551\n",
      "1    0  11133236\n",
      "2    0   6888601\n",
      "3    0   5812383\n",
      "4    0   4803330\n"
     ]
    }
   ],
   "source": [
    "df_click = pd.read_csv(os.path.join(raw_data_path, \"user_click\"), usecols=[0,1])\n",
    "df_click.dropna(inplace=True)\n",
    "\n",
    "df_click.rename(columns={\"user_id\":\"uid\", \"item_id\":\"pid\"}, inplace=True)\n",
    "df_click.reset_index(drop=True, inplace=True)\n",
    "\n",
    "show_df_info(df_click)"
   ]
  },
  {
   "cell_type": "code",
   "execution_count": 11,
   "metadata": {},
   "outputs": [
    {
     "name": "stdout",
     "output_type": "stream",
     "text": [
      "<class 'pandas.core.frame.DataFrame'>\n",
      "RangeIndex: 7947498 entries, 0 to 7947497\n",
      "Data columns (total 2 columns):\n",
      " #   Column  Dtype \n",
      "---  ------  ----- \n",
      " 0   uid     int64 \n",
      " 1   pid     object\n",
      "dtypes: int64(1), object(1)\n",
      "memory usage: 121.3+ MB\n",
      "None\n",
      "####### Repeat ####### \n",
      " True\n",
      "####### Count ####### \n",
      " uid      81173\n",
      "pid    2739082\n",
      "dtype: int64\n",
      "####### Example ####### \n",
      "      uid          pid\n",
      "0  91559       851954\n",
      "1  43488      5089253\n",
      "2  44568     12367746\n",
      "3  18466  26220866219\n",
      "4  80782      8591502\n"
     ]
    }
   ],
   "source": [
    "df_click = df_click.sample(frac=0.15, random_state=11)\n",
    "df_click.reset_index(drop=True, inplace=True)\n",
    "\n",
    "show_df_info(df_click)"
   ]
  },
  {
   "cell_type": "code",
   "execution_count": 12,
   "metadata": {},
   "outputs": [
    {
     "name": "stdout",
     "output_type": "stream",
     "text": [
      "<class 'pandas.core.frame.DataFrame'>\n",
      "RangeIndex: 454909 entries, 0 to 454908\n",
      "Data columns (total 2 columns):\n",
      " #   Column  Non-Null Count   Dtype \n",
      "---  ------  --------------   ----- \n",
      " 0   uid     454909 non-null  int64 \n",
      " 1   pid     454909 non-null  object\n",
      "dtypes: int64(1), object(1)\n",
      "memory usage: 6.9+ MB\n",
      "None\n",
      "####### Repeat ####### \n",
      " False\n",
      "####### Count ####### \n",
      " uid     41145\n",
      "pid    188573\n",
      "dtype: int64\n",
      "####### Example ####### \n",
      "      uid          pid\n",
      "0  29190  16237834468\n",
      "1  56519      4596108\n",
      "2  73751  21845916575\n",
      "3  30253     11798319\n",
      "4  88255      1228007\n"
     ]
    }
   ],
   "source": [
    "df_click = df_click[df_click[\"uid\"].isin(df_user[\"uid\"])]\n",
    "df_click = df_click[df_click[\"pid\"].isin(df_item[\"pid\"])]\n",
    "\n",
    "df_click.drop_duplicates(inplace=True)\n",
    "df_click.reset_index(drop=True, inplace=True)\n",
    "\n",
    "show_df_info(df_click)"
   ]
  },
  {
   "cell_type": "markdown",
   "metadata": {},
   "source": [
    "## Filter"
   ]
  },
  {
   "cell_type": "code",
   "execution_count": 13,
   "metadata": {},
   "outputs": [],
   "source": [
    "def get_count(tp, id):\n",
    "    playcount_groupbyid = tp[[id]].groupby(id, as_index=True)\n",
    "    count = playcount_groupbyid.size()\n",
    "    return count\n",
    "\n",
    "def filter_triplets(tp, user, item, min_uc=0, min_sc=0):\n",
    "    # Only keep the triplets for users who clicked on at least min_uc items\n",
    "    if min_uc > 0:\n",
    "        usercount = get_count(tp, user)\n",
    "        tp = tp[tp[user].isin(usercount.index[usercount >= min_uc])]\n",
    "    \n",
    "    # Only keep the triplets for items which were clicked on by at least min_sc users. \n",
    "    if min_sc > 0:\n",
    "        itemcount = get_count(tp, item)\n",
    "        tp = tp[tp[item].isin(itemcount.index[itemcount >= min_sc])]\n",
    "    \n",
    "    # Update both usercount and itemcount after filtering\n",
    "    usercount, itemcount = get_count(tp, user), get_count(tp, item) \n",
    "    return tp, usercount, itemcount"
   ]
  },
  {
   "cell_type": "markdown",
   "metadata": {},
   "source": [
    "### Filter \"df_click\" (item interactions >= 2)"
   ]
  },
  {
   "cell_type": "code",
   "execution_count": 14,
   "metadata": {},
   "outputs": [
    {
     "name": "stdout",
     "output_type": "stream",
     "text": [
      "41145 188573\n"
     ]
    }
   ],
   "source": [
    "# Before filtering\n",
    "users = set(df_click.uid.tolist())\n",
    "items = set(df_click.pid.tolist())\n",
    "\n",
    "print(len(users), len(items))"
   ]
  },
  {
   "cell_type": "code",
   "execution_count": 15,
   "metadata": {},
   "outputs": [
    {
     "name": "stdout",
     "output_type": "stream",
     "text": [
      "After filtering, there are 315970 interaction events from 38322 users and 49634 items (sparsity: 0.0166%)\n"
     ]
    }
   ],
   "source": [
    "df_click, uid_activity, pid_popularity = filter_triplets(df_click, 'uid', 'pid', min_uc=0, min_sc=2)\n",
    "\n",
    "sparsity = 1. * df_click.shape[0] / (uid_activity.shape[0] * pid_popularity.shape[0])\n",
    "\n",
    "print(\"After filtering, there are %d interaction events from %d users and %d items (sparsity: %.4f%%)\" % \n",
    "      (df_click.shape[0], uid_activity.shape[0], pid_popularity.shape[0], sparsity * 100))"
   ]
  },
  {
   "cell_type": "code",
   "execution_count": 16,
   "metadata": {},
   "outputs": [
    {
     "name": "stdout",
     "output_type": "stream",
     "text": [
      "38322 49634\n"
     ]
    }
   ],
   "source": [
    "# After filtering\n",
    "users = set(df_click.uid.tolist())\n",
    "items = set(df_click.pid.tolist())\n",
    "\n",
    "print(len(users), len(items))"
   ]
  },
  {
   "cell_type": "markdown",
   "metadata": {},
   "source": [
    "## Process"
   ]
  },
  {
   "cell_type": "code",
   "execution_count": 17,
   "metadata": {},
   "outputs": [],
   "source": [
    "df_user = df_user[df_user['uid'].isin(users)]\n",
    "df_item = df_item[df_item['pid'].isin(items)]\n",
    "df_user.reset_index(drop=True, inplace=True)\n",
    "df_item.reset_index(drop=True, inplace=True)"
   ]
  },
  {
   "cell_type": "code",
   "execution_count": 18,
   "metadata": {},
   "outputs": [],
   "source": [
    "df_user = df_user.astype({\"uid\": \"str\"}, copy=False)\n",
    "df_item = df_item.astype({'pid': 'str', 'cid1': 'str', 'cid2': 'str', 'cid3': 'str', 'brand': 'str'}, copy=False)\n",
    "df_click = df_click.astype({'uid': 'str', 'pid': 'str'}, copy=False)"
   ]
  },
  {
   "cell_type": "code",
   "execution_count": 19,
   "metadata": {},
   "outputs": [
    {
     "name": "stdout",
     "output_type": "stream",
     "text": [
      "<class 'pandas.core.frame.DataFrame'>\n",
      "RangeIndex: 38322 entries, 0 to 38321\n",
      "Data columns (total 4 columns):\n",
      " #   Column   Non-Null Count  Dtype \n",
      "---  ------   --------------  ----- \n",
      " 0   uid      38322 non-null  object\n",
      " 1   gender   38322 non-null  int64 \n",
      " 2   age      38322 non-null  int64 \n",
      " 3   bin_age  38322 non-null  int64 \n",
      "dtypes: int64(3), object(1)\n",
      "memory usage: 1.2+ MB\n",
      "None\n",
      "####### Repeat ####### \n",
      " False\n",
      "####### Count ####### \n",
      " uid        38322\n",
      "gender         2\n",
      "age            5\n",
      "bin_age        2\n",
      "dtype: int64\n",
      "####### Example ####### \n",
      "   uid  gender  age  bin_age\n",
      "0   8       1    2        1\n",
      "1  15       0    3        1\n",
      "2  18       1    1        0\n",
      "3  19       1    1        0\n",
      "4  21       0    2        1\n"
     ]
    }
   ],
   "source": [
    "show_df_info(df_user)"
   ]
  },
  {
   "cell_type": "code",
   "execution_count": 20,
   "metadata": {},
   "outputs": [
    {
     "name": "stdout",
     "output_type": "stream",
     "text": [
      "<class 'pandas.core.frame.DataFrame'>\n",
      "RangeIndex: 49634 entries, 0 to 49633\n",
      "Data columns (total 5 columns):\n",
      " #   Column  Non-Null Count  Dtype \n",
      "---  ------  --------------  ----- \n",
      " 0   pid     49634 non-null  object\n",
      " 1   cid1    49634 non-null  object\n",
      " 2   cid2    49634 non-null  object\n",
      " 3   cid3    49634 non-null  object\n",
      " 4   brand   49634 non-null  object\n",
      "dtypes: object(5)\n",
      "memory usage: 1.9+ MB\n",
      "None\n",
      "####### Repeat ####### \n",
      " False\n",
      "####### Count ####### \n",
      " pid      49634\n",
      "cid1        41\n",
      "cid2       297\n",
      "cid3      2056\n",
      "brand    15737\n",
      "dtype: int64\n",
      "####### Example ####### \n",
      "            pid   cid1   cid2   cid3     brand\n",
      "0  28664028364   1316   1381   1391   14031.0\n",
      "1  29553196788   1320   1581   2644  151523.0\n",
      "2      5153158  16750  16754  16801   27179.0\n",
      "3  11817573566   1315   1346   9789   35951.0\n",
      "4      7472300  12218  12222  12243  240300.0\n"
     ]
    }
   ],
   "source": [
    "# Build a dictionary and remove duplicate items\n",
    "user_dic = {k: v for v,k in enumerate(df_user.uid)}\n",
    "cid1_dic = {k: v for v, k in enumerate(df_item.cid1_name.drop_duplicates())}  \n",
    "cid2_dic = {k: v for v, k in enumerate(df_item.cid2_name.drop_duplicates())}\n",
    "cid3_dic = {k: v for v, k in enumerate(df_item.cid3_name.drop_duplicates())}\n",
    "brand_dic = {k: v for v, k in enumerate(df_item.brand.drop_duplicates())}\n",
    "item_dic = {}\n",
    "c1, c2, c3, brand = [], [], [], []\n",
    "for i in range(len(df_item)):\n",
    "    k = df_item.at[i,'pid']\n",
    "    v = i\n",
    "    item_dic[k] = v\n",
    "    c1.append(cid1_dic[df_item.at[i,'cid1_name']])\n",
    "    c2.append(cid2_dic[df_item.at[i,'cid2_name']])\n",
    "    c3.append(cid3_dic[df_item.at[i,'cid3_name']])\n",
    "    brand.append(brand_dic[df_item.at[i,'brand']])\n",
    "\n",
    "df_item.drop(columns=[\"cid1_name\", \"cid2_name\", \"cid3_name\", \"price\", \"item_name\", \"seg_name\"], inplace=True)\n",
    "\n",
    "show_df_info(df_item)"
   ]
  },
  {
   "cell_type": "code",
   "execution_count": 21,
   "metadata": {},
   "outputs": [
    {
     "name": "stdout",
     "output_type": "stream",
     "text": [
      "####### nCount #######\n",
      "0    24587\n",
      "1    13735\n",
      "Name: gender, dtype: int64\n",
      "1    18944\n",
      "2     8919\n",
      "0     6773\n",
      "3     2954\n",
      "4      732\n",
      "Name: age, dtype: int64\n",
      "0    25717\n",
      "1    12605\n",
      "Name: bin_age, dtype: int64\n",
      "####### nPercent #######\n",
      "0    0.64159\n",
      "1    0.35841\n",
      "Name: gender, dtype: float64\n",
      "1    0.494337\n",
      "2    0.232738\n",
      "0    0.176739\n",
      "3    0.077084\n",
      "4    0.019101\n",
      "Name: age, dtype: float64\n",
      "0    0.671077\n",
      "1    0.328923\n",
      "Name: bin_age, dtype: float64\n"
     ]
    }
   ],
   "source": [
    "label_statics(df_user, df_user.columns[1:])"
   ]
  },
  {
   "cell_type": "code",
   "execution_count": 32,
   "metadata": {},
   "outputs": [
    {
     "name": "stdout",
     "output_type": "stream",
     "text": [
      "####### nCount #######\n",
      "0    24587\n",
      "1    13735\n",
      "Name: gender, dtype: int64\n",
      "1    18944\n",
      "2     8919\n",
      "0     6773\n",
      "3     2954\n",
      "4      732\n",
      "Name: age, dtype: int64\n",
      "1    25717\n",
      "0    12605\n",
      "Name: bin_age, dtype: int64\n",
      "####### nPercent #######\n",
      "0    0.64159\n",
      "1    0.35841\n",
      "Name: gender, dtype: float64\n",
      "1    0.494337\n",
      "2    0.232738\n",
      "0    0.176739\n",
      "3    0.077084\n",
      "4    0.019101\n",
      "Name: age, dtype: float64\n",
      "1    0.671077\n",
      "0    0.328923\n",
      "Name: bin_age, dtype: float64\n"
     ]
    }
   ],
   "source": [
    "df_user['bin_age'] = df_user['bin_age'].replace(1,2)\n",
    "df_user['bin_age'] = df_user['bin_age'].replace(0,1)\n",
    "df_user['bin_age'] = df_user['bin_age'].replace(2,0)\n",
    "\n",
    "label_statics(df_user, df_user.columns[1:])"
   ]
  },
  {
   "cell_type": "markdown",
   "metadata": {},
   "source": [
    "### Save"
   ]
  },
  {
   "cell_type": "code",
   "execution_count": 33,
   "metadata": {},
   "outputs": [],
   "source": [
    "df_user.to_csv(os.path.join(save_path, \"user.csv\"), index=False)\n",
    "df_item.to_csv(os.path.join(save_path, \"item.csv\"), index=False)\n",
    "df_click.to_csv(os.path.join(save_path, \"click.csv\"), index=False)"
   ]
  },
  {
   "cell_type": "markdown",
   "metadata": {},
   "source": [
    "## Generate graph"
   ]
  },
  {
   "cell_type": "code",
   "execution_count": 34,
   "metadata": {},
   "outputs": [],
   "source": [
    "u = {v:k for k,v in user_dic.items()}\n",
    "i = {v:k for k,v in item_dic.items()}\n",
    "pickle.dump(u, open(os.path.join(\"./input_jd_data\", \"attweight\", \"user_dic.pkl\"), 'wb'))\n",
    "pickle.dump(i, open(os.path.join(\"./input_jd_data\", \"attweight\", \"item_dic.pkl\"), 'wb'))"
   ]
  },
  {
   "cell_type": "code",
   "execution_count": 35,
   "metadata": {},
   "outputs": [],
   "source": [
    "click_user = [user_dic[user] for user in df_click.uid]\n",
    "click_item = [item_dic[item] for item in df_click.pid]"
   ]
  },
  {
   "cell_type": "code",
   "execution_count": 36,
   "metadata": {},
   "outputs": [],
   "source": [
    "data_dict = {\n",
    "    ('user', 'click', 'item'): (torch.tensor(click_user), torch.tensor(click_item)),\n",
    "    ('item', 'click-by', 'user'): (torch.tensor(click_item), torch.tensor(click_user))\n",
    "}"
   ]
  },
  {
   "cell_type": "code",
   "execution_count": 37,
   "metadata": {},
   "outputs": [],
   "source": [
    "G = dgl.heterograph(data_dict)"
   ]
  },
  {
   "cell_type": "code",
   "execution_count": 38,
   "metadata": {},
   "outputs": [
    {
     "name": "stderr",
     "output_type": "stream",
     "text": [
      "Warning : `load_model` does not return WordVectorModel or SupervisedModel any more, but a `FastText` object which is very similar.\n"
     ]
    }
   ],
   "source": [
    "model = fasttext.load_model('/home/purificato/papers_code/CIKM21_RHGN/jd_data/fasttext/fastText/cc.zh.200.bin')\n",
    "\n",
    "temp = {k: model.get_sentence_vector(v) for v, k in cid1_dic.items()}\n",
    "cid1_feature = torch.tensor([temp[k] for _, k in cid1_dic.items()])\n",
    "\n",
    "temp = {k: model.get_sentence_vector(v) for v, k in cid2_dic.items()}\n",
    "cid2_feature = torch.tensor([temp[k] for _, k in cid2_dic.items()])\n",
    "\n",
    "temp = {k: model.get_sentence_vector(v) for v, k in cid3_dic.items()}\n",
    "cid3_feature = torch.tensor([temp[k] for _, k in cid3_dic.items()])\n",
    "\n",
    "temp = {k: model.get_sentence_vector(v) for v, k in brand_dic.items()}\n",
    "brand_feature = torch.tensor([temp[k] for _, k in brand_dic.items()])"
   ]
  },
  {
   "cell_type": "code",
   "execution_count": 39,
   "metadata": {},
   "outputs": [],
   "source": [
    "# Passing labels into label\n",
    "label_gender = df_user.gender\n",
    "label_age = df_user.age\n",
    "label_bin_age = df_user.bin_age"
   ]
  },
  {
   "cell_type": "code",
   "execution_count": 40,
   "metadata": {},
   "outputs": [],
   "source": [
    "G.nodes['user'].data['gender'] = torch.tensor(label_gender[:G.number_of_nodes('user')])\n",
    "G.nodes['user'].data['age'] = torch.tensor(label_age[:G.number_of_nodes('user')])\n",
    "G.nodes['user'].data['bin_age'] = torch.tensor(label_bin_age[:G.number_of_nodes('user')])\n",
    "G.nodes['item'].data['cid1'] = torch.tensor(c1[:G.number_of_nodes('item')])\n",
    "G.nodes['item'].data['cid2'] = torch.tensor(c2[:G.number_of_nodes('item')])\n",
    "G.nodes['item'].data['cid3'] = torch.tensor(c3[:G.number_of_nodes('item')])\n",
    "G.nodes['item'].data['brand'] = torch.tensor(brand[:G.number_of_nodes('item')])"
   ]
  },
  {
   "cell_type": "markdown",
   "metadata": {},
   "source": [
    "### Save"
   ]
  },
  {
   "cell_type": "code",
   "execution_count": 41,
   "metadata": {},
   "outputs": [],
   "source": [
    "torch.save(G, os.path.join(save_path, \"G_new.pkl\"))\n",
    "torch.save(cid1_feature, os.path.join(save_path, \"cid1_feature.npy\"))\n",
    "torch.save(cid2_feature, os.path.join(save_path, \"cid2_feature.npy\"))\n",
    "torch.save(cid3_feature, os.path.join(save_path, \"cid3_feature.npy\"))\n",
    "torch.save(brand_feature, os.path.join(save_path, \"brand_feature.npy\"))"
   ]
  }
 ],
 "metadata": {
  "interpreter": {
   "hash": "31f2aee4e71d21fbe5cf8b01ff0e069b9275f58929596ceb00d14d90e3e16cd6"
  },
  "kernelspec": {
   "display_name": "Python 3.8.10 64-bit",
   "language": "python",
   "name": "python3"
  },
  "language_info": {
   "codemirror_mode": {
    "name": "ipython",
    "version": 3
   },
   "file_extension": ".py",
   "mimetype": "text/x-python",
   "name": "python",
   "nbconvert_exporter": "python",
   "pygments_lexer": "ipython3",
   "version": "3.8.10"
  },
  "orig_nbformat": 4
 },
 "nbformat": 4,
 "nbformat_minor": 2
}
