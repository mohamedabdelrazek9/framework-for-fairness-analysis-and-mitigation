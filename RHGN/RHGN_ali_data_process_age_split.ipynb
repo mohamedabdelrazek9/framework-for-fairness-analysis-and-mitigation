{
 "cells": [
  {
   "cell_type": "markdown",
   "metadata": {},
   "source": [
    "# RHGN - Alibaba dataset process"
   ]
  },
  {
   "cell_type": "code",
   "execution_count": 1,
   "metadata": {},
   "outputs": [
    {
     "name": "stderr",
     "output_type": "stream",
     "text": [
      "Using backend: pytorch[22:48:06] /opt/dgl/src/runtime/tensordispatch.cc:43: TensorDispatcher: dlopen failed: /home/purificato/.local/lib/python3.8/site-packages/dgl/tensoradapter/pytorch/libtensoradapter_pytorch_1.10.1.so: cannot open shared object file: No such file or directory\n",
      "\n"
     ]
    }
   ],
   "source": [
    "import numpy as np\n",
    "import pandas as pd\n",
    "import os\n",
    "import tqdm\n",
    "import dgl\n",
    "import torch\n",
    "from torch import nn\n",
    "\n",
    "from utils import *\n",
    "from utils import neighbormap, split_char, filter_sample, combination\n",
    "\n",
    "import fasttext"
   ]
  },
  {
   "cell_type": "markdown",
   "metadata": {},
   "source": [
    "## Data path"
   ]
  },
  {
   "cell_type": "code",
   "execution_count": 2,
   "metadata": {},
   "outputs": [],
   "source": [
    "# Get data from the original RHGN path\n",
    "raw_data_path = '/home/purificato/papers_code/CIKM21_RHGN/taobao_data'\n",
    "save_path = './input_ali_data/new_age_split'"
   ]
  },
  {
   "cell_type": "code",
   "execution_count": 3,
   "metadata": {},
   "outputs": [],
   "source": [
    "def show_df_info(df):\n",
    "    print(df.info())\n",
    "    print('####### Repeat ####### \\n', df.duplicated().any())\n",
    "    print('####### Count ####### \\n', df.nunique())\n",
    "    print('####### Example ####### \\n',df.head())\n",
    "\n",
    "def label_statics(label_df, label_list):\n",
    "    print(\"####### nCount #######\")\n",
    "    for label in label_list:\n",
    "        print(label_df[label].value_counts())\n",
    "    print(\"####### nPercent #######\")\n",
    "    for label in label_list:\n",
    "        print(label_df[label].value_counts()/label_df.shape[0])"
   ]
  },
  {
   "cell_type": "markdown",
   "metadata": {},
   "source": [
    "## USER_PROFILE analysis"
   ]
  },
  {
   "cell_type": "markdown",
   "metadata": {},
   "source": [
    "df_user == label (CatGCN)"
   ]
  },
  {
   "cell_type": "code",
   "execution_count": 4,
   "metadata": {},
   "outputs": [
    {
     "name": "stdout",
     "output_type": "stream",
     "text": [
      "<class 'pandas.core.frame.DataFrame'>\n",
      "Int64Index: 395932 entries, 1 to 1061767\n",
      "Data columns (total 6 columns):\n",
      " #   Column   Non-Null Count   Dtype  \n",
      "---  ------   --------------   -----  \n",
      " 0   uid      395932 non-null  int64  \n",
      " 1   gender   395932 non-null  int64  \n",
      " 2   age      395932 non-null  int64  \n",
      " 3   buy      395932 non-null  float64\n",
      " 4   student  395932 non-null  int64  \n",
      " 5   city     395932 non-null  float64\n",
      "dtypes: float64(2), int64(4)\n",
      "memory usage: 21.1 MB\n",
      "None\n",
      "####### Repeat ####### \n",
      " False\n",
      "####### Count ####### \n",
      " uid        395932\n",
      "gender          2\n",
      "age             7\n",
      "buy             3\n",
      "student         2\n",
      "city            4\n",
      "dtype: int64\n",
      "####### Example ####### \n",
      "     uid  gender  age  buy  student  city\n",
      "1   523       2    2  1.0        1   2.0\n",
      "5  3644       2    6  2.0        0   2.0\n",
      "6  5777       2    5  2.0        0   2.0\n",
      "8  6355       2    1  1.0        0   4.0\n",
      "9  6823       2    5  2.0        0   1.0\n"
     ]
    }
   ],
   "source": [
    "df_user = pd.read_csv(os.path.join(raw_data_path, \"user_profile.csv\"), usecols=[0,3,4,5,7,8])\n",
    "df_user.dropna(inplace=True)\n",
    "df_user.rename(columns={'userid':'uid', 'final_gender_code':'gender','age_level':'age', 'pvalue_level':'buy', 'occupation':'student', 'new_user_class_level ':'city'}, inplace=True)\n",
    "\n",
    "show_df_info(df_user)"
   ]
  },
  {
   "cell_type": "code",
   "execution_count": 5,
   "metadata": {},
   "outputs": [
    {
     "name": "stdout",
     "output_type": "stream",
     "text": [
      "####### nCount #######\n",
      "2    269064\n",
      "1    126868\n",
      "Name: gender, dtype: int64\n",
      "3    120071\n",
      "4     94831\n",
      "2     83409\n",
      "5     73721\n",
      "1     16734\n",
      "6      7026\n",
      "0       140\n",
      "Name: age, dtype: int64\n",
      "2.0    242292\n",
      "1.0    121345\n",
      "3.0     32295\n",
      "Name: buy, dtype: int64\n",
      "0    367856\n",
      "1     28076\n",
      "Name: student, dtype: int64\n",
      "2.0    178624\n",
      "3.0     96252\n",
      "4.0     76959\n",
      "1.0     44097\n",
      "Name: city, dtype: int64\n",
      "####### nPercent #######\n",
      "2    0.679571\n",
      "1    0.320429\n",
      "Name: gender, dtype: float64\n",
      "3    0.303262\n",
      "4    0.239513\n",
      "2    0.210665\n",
      "5    0.186196\n",
      "1    0.042265\n",
      "6    0.017745\n",
      "0    0.000354\n",
      "Name: age, dtype: float64\n",
      "2.0    0.611954\n",
      "1.0    0.306479\n",
      "3.0    0.081567\n",
      "Name: buy, dtype: float64\n",
      "0    0.929089\n",
      "1    0.070911\n",
      "Name: student, dtype: float64\n",
      "2.0    0.451148\n",
      "3.0    0.243102\n",
      "4.0    0.194374\n",
      "1.0    0.111375\n",
      "Name: city, dtype: float64\n"
     ]
    }
   ],
   "source": [
    "label_statics(df_user, df_user.columns[1:])"
   ]
  },
  {
   "cell_type": "markdown",
   "metadata": {},
   "source": [
    "### Label filter"
   ]
  },
  {
   "cell_type": "code",
   "execution_count": 6,
   "metadata": {},
   "outputs": [
    {
     "name": "stdout",
     "output_type": "stream",
     "text": [
      "<class 'pandas.core.frame.DataFrame'>\n",
      "Int64Index: 395932 entries, 1 to 1061767\n",
      "Data columns (total 6 columns):\n",
      " #   Column   Non-Null Count   Dtype  \n",
      "---  ------   --------------   -----  \n",
      " 0   uid      395932 non-null  int64  \n",
      " 1   gender   395932 non-null  int64  \n",
      " 2   age      395932 non-null  int64  \n",
      " 3   buy      395932 non-null  float64\n",
      " 4   student  395932 non-null  int64  \n",
      " 5   city     395932 non-null  float64\n",
      "dtypes: float64(2), int64(4)\n",
      "memory usage: 21.1 MB\n",
      "None\n",
      "####### Repeat ####### \n",
      " False\n",
      "####### Count ####### \n",
      " uid        395932\n",
      "gender          2\n",
      "age             7\n",
      "buy             3\n",
      "student         2\n",
      "city            4\n",
      "dtype: int64\n",
      "####### Example ####### \n",
      "     uid  gender  age  buy  student  city\n",
      "1   523       2    2  1.0        1   2.0\n",
      "5  3644       2    6  2.0        0   2.0\n",
      "6  5777       2    5  2.0        0   2.0\n",
      "8  6355       2    1  1.0        0   4.0\n",
      "9  6823       2    5  2.0        0   1.0\n"
     ]
    }
   ],
   "source": [
    "df_user = pd.read_csv(os.path.join(raw_data_path, 'user_profile.csv'), usecols=[0,3,4,5,7,8])\n",
    "df_user.dropna(inplace=True)\n",
    "df_user.rename(columns={'userid':'uid', 'final_gender_code':'gender','age_level':'age', 'pvalue_level':'buy', 'occupation':'student', 'new_user_class_level ':'city'}, inplace=True)\n",
    "\n",
    "show_df_info(df_user)"
   ]
  },
  {
   "cell_type": "code",
   "execution_count": 7,
   "metadata": {},
   "outputs": [
    {
     "name": "stdout",
     "output_type": "stream",
     "text": [
      "####### nCount #######\n",
      "2    269064\n",
      "1    126868\n",
      "Name: gender, dtype: int64\n",
      "3    120071\n",
      "4     94831\n",
      "2     83409\n",
      "5     73721\n",
      "1     16734\n",
      "6      7026\n",
      "0       140\n",
      "Name: age, dtype: int64\n",
      "2.0    242292\n",
      "1.0    121345\n",
      "3.0     32295\n",
      "Name: buy, dtype: int64\n",
      "0    367856\n",
      "1     28076\n",
      "Name: student, dtype: int64\n",
      "2.0    178624\n",
      "3.0     96252\n",
      "4.0     76959\n",
      "1.0     44097\n",
      "Name: city, dtype: int64\n",
      "####### nPercent #######\n",
      "2    0.679571\n",
      "1    0.320429\n",
      "Name: gender, dtype: float64\n",
      "3    0.303262\n",
      "4    0.239513\n",
      "2    0.210665\n",
      "5    0.186196\n",
      "1    0.042265\n",
      "6    0.017745\n",
      "0    0.000354\n",
      "Name: age, dtype: float64\n",
      "2.0    0.611954\n",
      "1.0    0.306479\n",
      "3.0    0.081567\n",
      "Name: buy, dtype: float64\n",
      "0    0.929089\n",
      "1    0.070911\n",
      "Name: student, dtype: float64\n",
      "2.0    0.451148\n",
      "3.0    0.243102\n",
      "4.0    0.194374\n",
      "1.0    0.111375\n",
      "Name: city, dtype: float64\n"
     ]
    }
   ],
   "source": [
    "label_statics(df_user, df_user.columns[1:])"
   ]
  },
  {
   "cell_type": "markdown",
   "metadata": {},
   "source": [
    "### bin_age"
   ]
  },
  {
   "cell_type": "code",
   "execution_count": 8,
   "metadata": {},
   "outputs": [
    {
     "name": "stdout",
     "output_type": "stream",
     "text": [
      "####### nCount #######\n",
      "2    269064\n",
      "1    126868\n",
      "Name: gender, dtype: int64\n",
      "3    120071\n",
      "4     94831\n",
      "2     83409\n",
      "5     73721\n",
      "1     16734\n",
      "6      7026\n",
      "0       140\n",
      "Name: age, dtype: int64\n",
      "2.0    242292\n",
      "1.0    121345\n",
      "3.0     32295\n",
      "Name: buy, dtype: int64\n",
      "0    367856\n",
      "1     28076\n",
      "Name: student, dtype: int64\n",
      "2.0    178624\n",
      "3.0     96252\n",
      "4.0     76959\n",
      "1.0     44097\n",
      "Name: city, dtype: int64\n",
      "0    220354\n",
      "1    175578\n",
      "Name: bin_age, dtype: int64\n",
      "####### nPercent #######\n",
      "2    0.679571\n",
      "1    0.320429\n",
      "Name: gender, dtype: float64\n",
      "3    0.303262\n",
      "4    0.239513\n",
      "2    0.210665\n",
      "5    0.186196\n",
      "1    0.042265\n",
      "6    0.017745\n",
      "0    0.000354\n",
      "Name: age, dtype: float64\n",
      "2.0    0.611954\n",
      "1.0    0.306479\n",
      "3.0    0.081567\n",
      "Name: buy, dtype: float64\n",
      "0    0.929089\n",
      "1    0.070911\n",
      "Name: student, dtype: float64\n",
      "2.0    0.451148\n",
      "3.0    0.243102\n",
      "4.0    0.194374\n",
      "1.0    0.111375\n",
      "Name: city, dtype: float64\n",
      "0    0.556545\n",
      "1    0.443455\n",
      "Name: bin_age, dtype: float64\n"
     ]
    }
   ],
   "source": [
    "df_user['bin_age'] = df_user['age']\n",
    "df_user['bin_age'] = df_user['bin_age'].replace(1,0)\n",
    "df_user['bin_age'] = df_user['bin_age'].replace(2,0)\n",
    "df_user['bin_age'] = df_user['bin_age'].replace(3,0)\n",
    "df_user['bin_age'] = df_user['bin_age'].replace(4,1)\n",
    "df_user['bin_age'] = df_user['bin_age'].replace(5,1)\n",
    "df_user['bin_age'] = df_user['bin_age'].replace(6,1)\n",
    "\n",
    "label_statics(df_user, df_user.columns[1:])"
   ]
  },
  {
   "cell_type": "code",
   "execution_count": 9,
   "metadata": {},
   "outputs": [
    {
     "name": "stdout",
     "output_type": "stream",
     "text": [
      "####### nCount #######\n",
      "2    269064\n",
      "1    126868\n",
      "Name: gender, dtype: int64\n",
      "3    120071\n",
      "4     94831\n",
      "2     83409\n",
      "5     73721\n",
      "1     16734\n",
      "6      7026\n",
      "0       140\n",
      "Name: age, dtype: int64\n",
      "2.0    242292\n",
      "1.0    121345\n",
      "3.0     32295\n",
      "Name: buy, dtype: int64\n",
      "0    367856\n",
      "1     28076\n",
      "Name: student, dtype: int64\n",
      "2.0    178624\n",
      "3.0     96252\n",
      "4.0     76959\n",
      "1.0     44097\n",
      "Name: city, dtype: int64\n",
      "0    220354\n",
      "1    175578\n",
      "Name: bin_age, dtype: int64\n",
      "2    274587\n",
      "1    121345\n",
      "Name: bin_buy, dtype: int64\n",
      "####### nPercent #######\n",
      "2    0.679571\n",
      "1    0.320429\n",
      "Name: gender, dtype: float64\n",
      "3    0.303262\n",
      "4    0.239513\n",
      "2    0.210665\n",
      "5    0.186196\n",
      "1    0.042265\n",
      "6    0.017745\n",
      "0    0.000354\n",
      "Name: age, dtype: float64\n",
      "2.0    0.611954\n",
      "1.0    0.306479\n",
      "3.0    0.081567\n",
      "Name: buy, dtype: float64\n",
      "0    0.929089\n",
      "1    0.070911\n",
      "Name: student, dtype: float64\n",
      "2.0    0.451148\n",
      "3.0    0.243102\n",
      "4.0    0.194374\n",
      "1.0    0.111375\n",
      "Name: city, dtype: float64\n",
      "0    0.556545\n",
      "1    0.443455\n",
      "Name: bin_age, dtype: float64\n",
      "2    0.693521\n",
      "1    0.306479\n",
      "Name: bin_buy, dtype: float64\n"
     ]
    }
   ],
   "source": [
    "df_user['bin_buy'] = df_user['buy']\n",
    "df_user['bin_buy'] = df_user['bin_buy'].replace(3.0, 2.0)\n",
    "df_user['bin_buy'] = df_user['bin_buy'].astype('int64')\n",
    "\n",
    "label_statics(df_user, df_user.columns[1:])"
   ]
  },
  {
   "cell_type": "markdown",
   "metadata": {},
   "source": [
    "## ITEM analysis"
   ]
  },
  {
   "cell_type": "markdown",
   "metadata": {},
   "source": [
    "df_item == pid_cid (CatGCN)"
   ]
  },
  {
   "cell_type": "code",
   "execution_count": 10,
   "metadata": {},
   "outputs": [
    {
     "name": "stdout",
     "output_type": "stream",
     "text": [
      "<class 'pandas.core.frame.DataFrame'>\n",
      "Int64Index: 600481 entries, 0 to 846810\n",
      "Data columns (total 6 columns):\n",
      " #   Column       Non-Null Count   Dtype  \n",
      "---  ------       --------------   -----  \n",
      " 0   pid          600481 non-null  int64  \n",
      " 1   cid          600481 non-null  int64  \n",
      " 2   campaign_id  600481 non-null  int64  \n",
      " 3   customer     600481 non-null  int64  \n",
      " 4   brand        600481 non-null  float64\n",
      " 5   price        600481 non-null  float64\n",
      "dtypes: float64(2), int64(4)\n",
      "memory usage: 32.1 MB\n",
      "None\n",
      "####### Repeat ####### \n",
      " False\n",
      "####### Count ####### \n",
      " pid            600481\n",
      "cid              6459\n",
      "campaign_id    320127\n",
      "customer       195847\n",
      "brand           99814\n",
      "price           13439\n",
      "dtype: int64\n",
      "####### Example ####### \n",
      "       pid   cid  campaign_id  customer     brand   price\n",
      "0   63133  6406        83237         1   95471.0  170.00\n",
      "1  313401  6406        83237         1   87331.0  199.00\n",
      "2  248909   392        83237         1   32233.0   38.00\n",
      "3  208458   392        83237         1  174374.0  139.00\n",
      "4  110847  7211       135256         2  145952.0   32.99\n"
     ]
    }
   ],
   "source": [
    "df_item = pd.read_csv(os.path.join(raw_data_path, \"ad_feature.csv\"))\n",
    "df_item.dropna(axis=0, subset=['cate_id', 'campaign_id', 'brand'], inplace=True)\n",
    "df_item.rename(columns={\"adgroup_id\":\"pid\", \"cate_id\":\"cid\"}, inplace=True)\n",
    "\n",
    "show_df_info(df_item)"
   ]
  },
  {
   "cell_type": "markdown",
   "metadata": {},
   "source": [
    "## CLICK analysis"
   ]
  },
  {
   "cell_type": "markdown",
   "metadata": {},
   "source": [
    "df_click == uid_pid (CatGCN)"
   ]
  },
  {
   "cell_type": "code",
   "execution_count": 11,
   "metadata": {},
   "outputs": [
    {
     "name": "stdout",
     "output_type": "stream",
     "text": [
      "<class 'pandas.core.frame.DataFrame'>\n",
      "Int64Index: 335619 entries, 92 to 26557931\n",
      "Data columns (total 2 columns):\n",
      " #   Column  Non-Null Count   Dtype\n",
      "---  ------  --------------   -----\n",
      " 0   uid     335619 non-null  int64\n",
      " 1   pid     335619 non-null  int64\n",
      "dtypes: int64(2)\n",
      "memory usage: 7.7 MB\n",
      "None\n",
      "####### Repeat ####### \n",
      " False\n",
      "####### Count ####### \n",
      " uid    148608\n",
      "pid    103292\n",
      "dtype: int64\n",
      "####### Example ####### \n",
      "          uid  pid\n",
      "92    642854  102\n",
      "257   843732  102\n",
      "283  1076956  102\n",
      "300   358193  102\n",
      "350  1002263  102\n"
     ]
    }
   ],
   "source": [
    "df_click = pd.read_csv(os.path.join(raw_data_path, \"raw_sample.csv\"), usecols=[\"user\", \"adgroup_id\", \"clk\"])\n",
    "df_click.rename(columns={\"user\":\"uid\", \"adgroup_id\":\"pid\"}, inplace=True)\n",
    "\n",
    "df_click = df_click[df_click[\"clk\"]>0]\n",
    "\n",
    "df_click.drop(\"clk\", axis=1, inplace=True)\n",
    "\n",
    "df_click = df_click[df_click[\"uid\"].isin(df_user[\"uid\"])]\n",
    "df_click = df_click[df_click[\"pid\"].isin(df_item[\"pid\"])]\n",
    "\n",
    "df_click.drop_duplicates(inplace=True)\n",
    "\n",
    "show_df_info(df_click)"
   ]
  },
  {
   "cell_type": "markdown",
   "metadata": {},
   "source": [
    "## Filter"
   ]
  },
  {
   "cell_type": "code",
   "execution_count": 12,
   "metadata": {},
   "outputs": [],
   "source": [
    "def get_count(tp, id):\n",
    "    playcount_groupbyid = tp[[id]].groupby(id, as_index=True)\n",
    "    count = playcount_groupbyid.size()\n",
    "    return count\n",
    "\n",
    "def filter_triplets(tp, user, item, min_uc=0, min_sc=0):\n",
    "    # Only keep the triplets for users who clicked on at least min_uc items\n",
    "    if min_uc > 0:\n",
    "        usercount = get_count(tp, user)\n",
    "        tp = tp[tp[user].isin(usercount.index[usercount >= min_uc])]\n",
    "    \n",
    "    # Only keep the triplets for items which were clicked on by at least min_sc users. \n",
    "    if min_sc > 0:\n",
    "        itemcount = get_count(tp, item)\n",
    "        tp = tp[tp[item].isin(itemcount.index[itemcount >= min_sc])]\n",
    "    \n",
    "    # Update both usercount and itemcount after filtering\n",
    "    usercount, itemcount = get_count(tp, user), get_count(tp, item) \n",
    "    return tp, usercount, itemcount"
   ]
  },
  {
   "cell_type": "code",
   "execution_count": 13,
   "metadata": {},
   "outputs": [
    {
     "name": "stdout",
     "output_type": "stream",
     "text": [
      "148608 103292\n"
     ]
    }
   ],
   "source": [
    "# Before filtering\n",
    "users = set(df_click.uid.tolist())\n",
    "items = set(df_click.pid.tolist())\n",
    "\n",
    "print(len(users), len(items))"
   ]
  },
  {
   "cell_type": "markdown",
   "metadata": {},
   "source": [
    "### Filter \"df_click\" (item interactions >= 2)"
   ]
  },
  {
   "cell_type": "code",
   "execution_count": 14,
   "metadata": {},
   "outputs": [
    {
     "name": "stdout",
     "output_type": "stream",
     "text": [
      "After filtering, there are 278019 interacton events from 135361 users and 45692 items (sparsity: 0.0045%)\n"
     ]
    }
   ],
   "source": [
    "df_click, uid_activity, pid_popularity = filter_triplets(df_click, 'uid', 'pid', min_uc=0, min_sc=2) # min_sc>=2\n",
    "\n",
    "sparsity = 1. * df_click.shape[0] / (uid_activity.shape[0] * pid_popularity.shape[0])\n",
    "\n",
    "print(\"After filtering, there are %d interacton events from %d users and %d items (sparsity: %.4f%%)\" % \n",
    "      (df_click.shape[0], uid_activity.shape[0], pid_popularity.shape[0], sparsity * 100))"
   ]
  },
  {
   "cell_type": "code",
   "execution_count": 15,
   "metadata": {},
   "outputs": [
    {
     "name": "stdout",
     "output_type": "stream",
     "text": [
      "<class 'pandas.core.frame.DataFrame'>\n",
      "Int64Index: 278019 entries, 92 to 26557917\n",
      "Data columns (total 2 columns):\n",
      " #   Column  Non-Null Count   Dtype\n",
      "---  ------  --------------   -----\n",
      " 0   uid     278019 non-null  int64\n",
      " 1   pid     278019 non-null  int64\n",
      "dtypes: int64(2)\n",
      "memory usage: 6.4 MB\n",
      "None\n",
      "####### Repeat ####### \n",
      " False\n",
      "####### Count ####### \n",
      " uid    135361\n",
      "pid     45692\n",
      "dtype: int64\n",
      "####### Example ####### \n",
      "          uid  pid\n",
      "92    642854  102\n",
      "257   843732  102\n",
      "283  1076956  102\n",
      "300   358193  102\n",
      "350  1002263  102\n"
     ]
    }
   ],
   "source": [
    "show_df_info(df_click)"
   ]
  },
  {
   "cell_type": "code",
   "execution_count": 16,
   "metadata": {},
   "outputs": [
    {
     "name": "stdout",
     "output_type": "stream",
     "text": [
      "135361 45692\n"
     ]
    }
   ],
   "source": [
    "# After filtering\n",
    "users = set(df_click.uid.tolist())\n",
    "items = set(df_click.pid.tolist())\n",
    "\n",
    "print(len(users), len(items))"
   ]
  },
  {
   "cell_type": "code",
   "execution_count": 17,
   "metadata": {},
   "outputs": [],
   "source": [
    "df_user = df_user[df_user['uid'].isin(users)]\n",
    "df_item = df_item[df_item['pid'].isin(items)]\n",
    "df_user.reset_index(drop=True, inplace=True)\n",
    "df_item.reset_index(drop=True, inplace=True)"
   ]
  },
  {
   "cell_type": "markdown",
   "metadata": {},
   "source": [
    "## Save"
   ]
  },
  {
   "cell_type": "code",
   "execution_count": 18,
   "metadata": {},
   "outputs": [],
   "source": [
    "df_user.to_csv(os.path.join(save_path, \"user.csv\"), index=False)\n",
    "df_item.to_csv(os.path.join(save_path, \"item.csv\"), index=False)\n",
    "df_click.to_csv(os.path.join(save_path, \"click.csv\"), index=False)"
   ]
  },
  {
   "cell_type": "markdown",
   "metadata": {},
   "source": [
    "## Process"
   ]
  },
  {
   "cell_type": "code",
   "execution_count": 19,
   "metadata": {},
   "outputs": [],
   "source": [
    "df_user = df_user.astype({'uid': 'str'}, copy=False)\n",
    "df_item = df_item.astype({'pid': 'str', 'cid': 'str', 'campaign_id': 'str', 'brand': 'str'}, copy=False)\n",
    "df_click = df_click.astype({'uid': 'str', 'pid': 'str'}, copy=False)"
   ]
  },
  {
   "cell_type": "code",
   "execution_count": 20,
   "metadata": {},
   "outputs": [],
   "source": [
    "# Build a dictionary and remove duplicate items\n",
    "user_dic = {k: v for v, k in enumerate(df_user.uid)}\n",
    "cate_dic = {k: v for v, k in enumerate(df_item.cid.drop_duplicates())}\n",
    "campaign_dic = {k: v for v, k in enumerate(df_item.campaign_id.drop_duplicates())}\n",
    "brand_dic = {k: v for v, k in enumerate(df_item.brand.drop_duplicates())}"
   ]
  },
  {
   "cell_type": "code",
   "execution_count": 21,
   "metadata": {},
   "outputs": [
    {
     "name": "stdout",
     "output_type": "stream",
     "text": [
      "0 0 0\n",
      "2590 38215 20486\n"
     ]
    }
   ],
   "source": [
    "item_dic = {}\n",
    "c1, c2, c3=[],[],[]\n",
    "for i in range(len(df_item)):\n",
    "    k=df_item.at[i,'pid']\n",
    "    v=i\n",
    "    item_dic[k]=v\n",
    "    c1.append(cate_dic[df_item.at[i,'cid']])\n",
    "    c2.append(campaign_dic[df_item.at[i,'campaign_id']])\n",
    "    c3.append(brand_dic[df_item.at[i,'brand']])\n",
    "\n",
    "print(min(c1), min(c2), min(c3))\n",
    "print(len(cate_dic), len(campaign_dic), len(brand_dic))"
   ]
  },
  {
   "cell_type": "code",
   "execution_count": 22,
   "metadata": {},
   "outputs": [],
   "source": [
    "df_click=df_click[df_click['pid'].isin(item_dic)]\n",
    "df_click=df_click[df_click['uid'].isin(user_dic)]\n",
    "df_click.reset_index(drop=True, inplace=True)"
   ]
  },
  {
   "cell_type": "markdown",
   "metadata": {},
   "source": [
    "## Generate graph"
   ]
  },
  {
   "cell_type": "code",
   "execution_count": 23,
   "metadata": {},
   "outputs": [],
   "source": [
    "click_user = [user_dic[user] for user in df_click.uid]\n",
    "click_item = [item_dic[item] for item in df_click.pid]"
   ]
  },
  {
   "cell_type": "code",
   "execution_count": 24,
   "metadata": {},
   "outputs": [],
   "source": [
    "data_dict = {\n",
    "    (\"user\", \"click\", \"item\"): (torch.tensor(click_user), torch.tensor(click_item)),\n",
    "    (\"item\", \"click_by\", \"user\"): (torch.tensor(click_item), torch.tensor(click_user))\n",
    "}"
   ]
  },
  {
   "cell_type": "code",
   "execution_count": 25,
   "metadata": {},
   "outputs": [],
   "source": [
    "G = dgl.heterograph(data_dict)"
   ]
  },
  {
   "cell_type": "markdown",
   "metadata": {},
   "source": [
    "### Process with fasttext model "
   ]
  },
  {
   "cell_type": "code",
   "execution_count": 26,
   "metadata": {},
   "outputs": [
    {
     "name": "stderr",
     "output_type": "stream",
     "text": [
      "Warning : `load_model` does not return WordVectorModel or SupervisedModel any more, but a `FastText` object which is very similar.\n",
      "/tmp/ipykernel_49325/3635140941.py:4: UserWarning: Creating a tensor from a list of numpy.ndarrays is extremely slow. Please consider converting the list to a single numpy.ndarray with numpy.array() before converting to a tensor. (Triggered internally at  ../torch/csrc/utils/tensor_new.cpp:201.)\n",
      "  cid1_feature = torch.tensor([temp1[k] for _, k in cate_dic.items()])\n"
     ]
    }
   ],
   "source": [
    "model = fasttext.load_model('/home/purificato/papers_code/CIKM21_RHGN/jd_data/fasttext/fastText/cc.zh.200.bin')\n",
    "\n",
    "temp1 = {k: model.get_sentence_vector(v) for v,k in cate_dic.items()}\n",
    "cid1_feature = torch.tensor([temp1[k] for _, k in cate_dic.items()])\n",
    "\n",
    "temp2 = {k: model.get_sentence_vector(v) for v, k in campaign_dic.items()}\n",
    "cid2_feature = torch.tensor([temp2[k] for _, k in campaign_dic.items()])\n",
    "\n",
    "temp3 = {k: model.get_sentence_vector(v) for v, k in brand_dic.items()}\n",
    "cid3_feature = torch.tensor([temp3[k] for _, k in brand_dic.items()])"
   ]
  },
  {
   "cell_type": "code",
   "execution_count": 27,
   "metadata": {},
   "outputs": [],
   "source": [
    "def col_map(df, col, num2id):\n",
    "    df[[col]] = df[[col]].applymap(lambda x: num2id[x])\n",
    "    return df\n",
    "\n",
    "def label_map(label_df, label_list):\n",
    "    for label in label_list:\n",
    "        label2id = {num: i for i, num in enumerate(pd.unique(label_df[label]))}\n",
    "        label_df = col_map(label_df, label, label2id)\n",
    "    return label_df"
   ]
  },
  {
   "cell_type": "code",
   "execution_count": 28,
   "metadata": {},
   "outputs": [
    {
     "name": "stdout",
     "output_type": "stream",
     "text": [
      "<class 'pandas.core.frame.DataFrame'>\n",
      "RangeIndex: 135361 entries, 0 to 135360\n",
      "Data columns (total 8 columns):\n",
      " #   Column   Non-Null Count   Dtype\n",
      "---  ------   --------------   -----\n",
      " 0   uid      135361 non-null  int64\n",
      " 1   gender   135361 non-null  int64\n",
      " 2   age      135361 non-null  int64\n",
      " 3   buy      135361 non-null  int64\n",
      " 4   student  135361 non-null  int64\n",
      " 5   city     135361 non-null  int64\n",
      " 6   bin_age  135361 non-null  int64\n",
      " 7   bin_buy  135361 non-null  int64\n",
      "dtypes: int64(8)\n",
      "memory usage: 8.3 MB\n",
      "None\n",
      "####### Repeat ####### \n",
      " False\n",
      "####### Count ####### \n",
      " uid        135361\n",
      "gender          2\n",
      "age             7\n",
      "buy             3\n",
      "student         2\n",
      "city            4\n",
      "bin_age         2\n",
      "bin_buy         2\n",
      "dtype: int64\n",
      "####### Example ####### \n",
      "    uid  gender  age  buy  student  city  bin_age  bin_buy\n",
      "0    0       0    0    0        0     0        0        0\n",
      "1    1       0    1    1        1     0        1        1\n",
      "2    2       0    2    1        1     0        1        1\n",
      "3    3       0    2    1        1     1        1        1\n",
      "4    4       0    0    1        0     0        0        1\n"
     ]
    }
   ],
   "source": [
    "uid2id = {num: i for i, num in enumerate(df_user['uid'])}\n",
    "\n",
    "df_user = col_map(df_user, 'uid', uid2id)\n",
    "user_label = label_map(df_user, df_user.columns[1:])\n",
    "\n",
    "show_df_info(user_label)"
   ]
  },
  {
   "cell_type": "code",
   "execution_count": 29,
   "metadata": {},
   "outputs": [
    {
     "name": "stdout",
     "output_type": "stream",
     "text": [
      "####### nCount #######\n",
      "0    99593\n",
      "1    35768\n",
      "Name: gender, dtype: int64\n",
      "4    41335\n",
      "3    33023\n",
      "0    28088\n",
      "2    24845\n",
      "5     5736\n",
      "1     2289\n",
      "6       45\n",
      "Name: age, dtype: int64\n",
      "1    83120\n",
      "0    41529\n",
      "2    10712\n",
      "Name: buy, dtype: int64\n",
      "1    126080\n",
      "0      9281\n",
      "Name: student, dtype: int64\n",
      "0    61134\n",
      "3    33485\n",
      "2    26504\n",
      "1    14238\n",
      "Name: city, dtype: int64\n",
      "0    75204\n",
      "1    60157\n",
      "Name: bin_age, dtype: int64\n",
      "1    93832\n",
      "0    41529\n",
      "Name: bin_buy, dtype: int64\n",
      "####### nPercent #######\n",
      "0    0.735758\n",
      "1    0.264242\n",
      "Name: gender, dtype: float64\n",
      "4    0.305369\n",
      "3    0.243962\n",
      "0    0.207504\n",
      "2    0.183546\n",
      "5    0.042376\n",
      "1    0.016910\n",
      "6    0.000332\n",
      "Name: age, dtype: float64\n",
      "1    0.614062\n",
      "0    0.306802\n",
      "2    0.079137\n",
      "Name: buy, dtype: float64\n",
      "1    0.931435\n",
      "0    0.068565\n",
      "Name: student, dtype: float64\n",
      "0    0.451637\n",
      "3    0.247376\n",
      "2    0.195802\n",
      "1    0.105185\n",
      "Name: city, dtype: float64\n",
      "0    0.555581\n",
      "1    0.444419\n",
      "Name: bin_age, dtype: float64\n",
      "1    0.693198\n",
      "0    0.306802\n",
      "Name: bin_buy, dtype: float64\n"
     ]
    }
   ],
   "source": [
    "label_statics(user_label, user_label.columns[1:])"
   ]
  },
  {
   "cell_type": "code",
   "execution_count": null,
   "metadata": {},
   "outputs": [],
   "source": [
    "# Pass the label into \"label\"\n",
    "label_gender = user_label.gender\n",
    "label_age = user_label.age\n",
    "label_buy = user_label.buy\n",
    "label_student = user_label.student\n",
    "label_city = user_label.city\n",
    "label_bin_buy = user_label.bin_buy"
   ]
  },
  {
   "cell_type": "code",
   "execution_count": null,
   "metadata": {},
   "outputs": [],
   "source": [
    "G.nodes['user'].data['gender'] = torch.tensor(label_gender[:G.number_of_nodes('user')])\n",
    "G.nodes['user'].data['age'] = torch.tensor(label_age[:G.number_of_nodes('user')])\n",
    "G.nodes['user'].data['buy'] = torch.tensor(label_buy[:G.number_of_nodes('user')])\n",
    "G.nodes['user'].data['student'] = torch.tensor(label_student[:G.number_of_nodes('user')])\n",
    "G.nodes['user'].data['city'] = torch.tensor(label_city[:G.number_of_nodes('user')])\n",
    "G.nodes['user'].data['bin_buy'] = torch.tensor(label_bin_buy[:G.number_of_nodes('user')])\n",
    "\n",
    "G.nodes['item'].data['cid1'] = torch.tensor(c1[:G.number_of_nodes('item')])\n",
    "G.nodes['item'].data['cid2'] = torch.tensor(c2[:G.number_of_nodes('item')])\n",
    "G.nodes['item'].data['cid3'] = torch.tensor(c3[:G.number_of_nodes('item')])\n",
    "\n",
    "print(G)\n",
    "print(cid1_feature.shape,)\n",
    "print(cid2_feature.shape,)\n",
    "print(cid3_feature.shape,)"
   ]
  },
  {
   "cell_type": "code",
   "execution_count": null,
   "metadata": {},
   "outputs": [],
   "source": [
    "torch.save(G, os.path.join(save_path, \"G_new.pkl\"))\n",
    "torch.save(cid1_feature, os.path.join(save_path, \"cid1_feature.npy\"))\n",
    "torch.save(cid2_feature, os.path.join(save_path, \"cid2_feature.npy\"))\n",
    "torch.save(cid3_feature, os.path.join(save_path, \"cid3_feature.npy\"))"
   ]
  }
 ],
 "metadata": {
  "interpreter": {
   "hash": "31f2aee4e71d21fbe5cf8b01ff0e069b9275f58929596ceb00d14d90e3e16cd6"
  },
  "kernelspec": {
   "display_name": "Python 3.8.10 64-bit",
   "language": "python",
   "name": "python3"
  },
  "language_info": {
   "codemirror_mode": {
    "name": "ipython",
    "version": 3
   },
   "file_extension": ".py",
   "mimetype": "text/x-python",
   "name": "python",
   "nbconvert_exporter": "python",
   "pygments_lexer": "ipython3",
   "version": "3.8.10"
  },
  "orig_nbformat": 4
 },
 "nbformat": 4,
 "nbformat_minor": 2
}
